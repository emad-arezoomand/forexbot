{
 "cells": [
  {
   "cell_type": "code",
   "execution_count": 1,
   "metadata": {
    "collapsed": true,
    "ExecuteTime": {
     "end_time": "2024-04-28T14:11:19.256498600Z",
     "start_time": "2024-04-28T14:11:18.749996700Z"
    }
   },
   "outputs": [],
   "source": [
    "import numpy as np\n",
    "import pandas as pd\n",
    "import Raw_data_receiver as rdr\n",
    "import Create_window_index as windower"
   ]
  },
  {
   "cell_type": "code",
   "execution_count": 2,
   "outputs": [],
   "source": [
    "data_receiver = rdr.rawdatareceiver()"
   ],
   "metadata": {
    "collapsed": false,
    "ExecuteTime": {
     "end_time": "2024-04-28T14:11:19.262693900Z",
     "start_time": "2024-04-28T14:11:19.262693900Z"
    }
   }
  },
  {
   "cell_type": "code",
   "execution_count": 3,
   "outputs": [
    {
     "name": "stdout",
     "output_type": "stream",
     "text": [
      "read file with header as follows \n",
      "\n",
      "         Date   Price    Open    High     Low  Vol. Change %\n",
      "0  03/27/2017  1.0865  1.0797  1.0905  1.0795   NaN    0.61%\n",
      "1  03/24/2017  1.0799  1.0784  1.0820  1.0761   NaN    0.15%\n",
      "2  03/23/2017  1.0783  1.0797  1.0807  1.0769   NaN   -0.13%\n",
      "3  03/22/2017  1.0797  1.0810  1.0827  1.0776   NaN   -0.13%\n",
      "4  03/21/2017  1.0811  1.0740  1.0822  1.0720   NaN    0.67%\n",
      "\n",
      "\n"
     ]
    }
   ],
   "source": [
    "rawdata = data_receiver.receive_data_file(\"chart_data/eur_usd_daily.csv\", \"eurusd_daily\")\n",
    "# 0 2 3 4 1\n",
    "rawdata = rawdata.iloc[::-1]\n",
    "rawdata.index = np.arange(0,len(rawdata))[::-1]"
   ],
   "metadata": {
    "collapsed": false,
    "ExecuteTime": {
     "end_time": "2024-04-28T14:11:20.314016500Z",
     "start_time": "2024-04-28T14:11:19.621393700Z"
    }
   }
  },
  {
   "cell_type": "code",
   "execution_count": 4,
   "outputs": [
    {
     "data": {
      "text/plain": "            date    open    high     low   close\n4999  01/26/1998  1.1090  1.1196  1.0963  1.0991\n4998  01/27/1998  1.0991  1.1055  1.0985  1.1022\n4997  01/28/1998  1.1021  1.1021  1.0877  1.0878\n4996  01/29/1998  1.0870  1.0927  1.0785  1.0799\n4995  01/30/1998  1.0792  1.0865  1.0771  1.0790\n...          ...     ...     ...     ...     ...\n4     03/21/2017  1.0740  1.0822  1.0720  1.0811\n3     03/22/2017  1.0810  1.0827  1.0776  1.0797\n2     03/23/2017  1.0797  1.0807  1.0769  1.0783\n1     03/24/2017  1.0784  1.0820  1.0761  1.0799\n0     03/27/2017  1.0797  1.0905  1.0795  1.0865\n\n[5000 rows x 5 columns]",
      "text/html": "<div>\n<style scoped>\n    .dataframe tbody tr th:only-of-type {\n        vertical-align: middle;\n    }\n\n    .dataframe tbody tr th {\n        vertical-align: top;\n    }\n\n    .dataframe thead th {\n        text-align: right;\n    }\n</style>\n<table border=\"1\" class=\"dataframe\">\n  <thead>\n    <tr style=\"text-align: right;\">\n      <th></th>\n      <th>date</th>\n      <th>open</th>\n      <th>high</th>\n      <th>low</th>\n      <th>close</th>\n    </tr>\n  </thead>\n  <tbody>\n    <tr>\n      <th>4999</th>\n      <td>01/26/1998</td>\n      <td>1.1090</td>\n      <td>1.1196</td>\n      <td>1.0963</td>\n      <td>1.0991</td>\n    </tr>\n    <tr>\n      <th>4998</th>\n      <td>01/27/1998</td>\n      <td>1.0991</td>\n      <td>1.1055</td>\n      <td>1.0985</td>\n      <td>1.1022</td>\n    </tr>\n    <tr>\n      <th>4997</th>\n      <td>01/28/1998</td>\n      <td>1.1021</td>\n      <td>1.1021</td>\n      <td>1.0877</td>\n      <td>1.0878</td>\n    </tr>\n    <tr>\n      <th>4996</th>\n      <td>01/29/1998</td>\n      <td>1.0870</td>\n      <td>1.0927</td>\n      <td>1.0785</td>\n      <td>1.0799</td>\n    </tr>\n    <tr>\n      <th>4995</th>\n      <td>01/30/1998</td>\n      <td>1.0792</td>\n      <td>1.0865</td>\n      <td>1.0771</td>\n      <td>1.0790</td>\n    </tr>\n    <tr>\n      <th>...</th>\n      <td>...</td>\n      <td>...</td>\n      <td>...</td>\n      <td>...</td>\n      <td>...</td>\n    </tr>\n    <tr>\n      <th>4</th>\n      <td>03/21/2017</td>\n      <td>1.0740</td>\n      <td>1.0822</td>\n      <td>1.0720</td>\n      <td>1.0811</td>\n    </tr>\n    <tr>\n      <th>3</th>\n      <td>03/22/2017</td>\n      <td>1.0810</td>\n      <td>1.0827</td>\n      <td>1.0776</td>\n      <td>1.0797</td>\n    </tr>\n    <tr>\n      <th>2</th>\n      <td>03/23/2017</td>\n      <td>1.0797</td>\n      <td>1.0807</td>\n      <td>1.0769</td>\n      <td>1.0783</td>\n    </tr>\n    <tr>\n      <th>1</th>\n      <td>03/24/2017</td>\n      <td>1.0784</td>\n      <td>1.0820</td>\n      <td>1.0761</td>\n      <td>1.0799</td>\n    </tr>\n    <tr>\n      <th>0</th>\n      <td>03/27/2017</td>\n      <td>1.0797</td>\n      <td>1.0905</td>\n      <td>1.0795</td>\n      <td>1.0865</td>\n    </tr>\n  </tbody>\n</table>\n<p>5000 rows × 5 columns</p>\n</div>"
     },
     "execution_count": 4,
     "metadata": {},
     "output_type": "execute_result"
    }
   ],
   "source": [
    "rawdata"
   ],
   "metadata": {
    "collapsed": false,
    "ExecuteTime": {
     "end_time": "2024-04-28T14:11:20.815329900Z",
     "start_time": "2024-04-28T14:11:20.799222Z"
    }
   }
  },
  {
   "cell_type": "code",
   "execution_count": 5,
   "outputs": [
    {
     "name": "stdout",
     "output_type": "stream",
     "text": [
      "[[0 1 2 3 4]\n",
      " [1 2 3 4 5]\n",
      " [2 3 4 5 6]\n",
      " [3 4 5 6 7]\n",
      " [4 5 6 7 8]\n",
      " [5 6 7 8 9]]\n"
     ]
    }
   ],
   "source": [],
   "metadata": {
    "collapsed": false,
    "ExecuteTime": {
     "end_time": "2024-04-28T14:11:21.265251900Z",
     "start_time": "2024-04-28T14:11:21.247891400Z"
    }
   }
  },
  {
   "cell_type": "code",
   "execution_count": 6,
   "outputs": [],
   "source": [
    "print(windower.create_window_indexes(10,5))"
   ],
   "metadata": {
    "collapsed": false,
    "ExecuteTime": {
     "end_time": "2024-04-28T14:11:21.979506500Z",
     "start_time": "2024-04-28T14:11:21.947823Z"
    }
   }
  },
  {
   "cell_type": "code",
   "execution_count": 15,
   "outputs": [
    {
     "name": "stdout",
     "output_type": "stream",
     "text": [
      "lims = \n",
      " [0.01 0.04 0.07 0.1 ]\n"
     ]
    }
   ],
   "source": [
    "import Create_labels as cl"
   ],
   "metadata": {
    "collapsed": false,
    "ExecuteTime": {
     "end_time": "2024-04-28T14:19:01.690107900Z",
     "start_time": "2024-04-28T14:18:20.696100800Z"
    }
   }
  },
  {
   "cell_type": "code",
   "execution_count": 16,
   "outputs": [
    {
     "data": {
      "text/plain": "        0    1    2    3    4    5    6    7\n4999  0.0  1.0  1.0  1.0  1.0  0.0  0.0  0.0\n4998  0.0  1.0  1.0  1.0  1.0  0.0  0.0  0.0\n4997  0.0  1.0  1.0  1.0  1.0  0.0  0.0  0.0\n4996  1.0  1.0  1.0  1.0  0.0  0.0  0.0  0.0\n4995  1.0  1.0  1.0  1.0  0.0  0.0  0.0  0.0\n...   ...  ...  ...  ...  ...  ...  ...  ...\n4     0.0  0.0  0.0  0.0  0.0  0.0  0.0  0.0\n3     1.0  0.0  0.0  0.0  0.0  0.0  0.0  0.0\n2     1.0  0.0  0.0  0.0  0.0  0.0  0.0  0.0\n1     1.0  0.0  0.0  0.0  0.0  0.0  0.0  0.0\n0     0.0  0.0  0.0  0.0  0.0  0.0  0.0  0.0\n\n[5000 rows x 8 columns]",
      "text/html": "<div>\n<style scoped>\n    .dataframe tbody tr th:only-of-type {\n        vertical-align: middle;\n    }\n\n    .dataframe tbody tr th {\n        vertical-align: top;\n    }\n\n    .dataframe thead th {\n        text-align: right;\n    }\n</style>\n<table border=\"1\" class=\"dataframe\">\n  <thead>\n    <tr style=\"text-align: right;\">\n      <th></th>\n      <th>0</th>\n      <th>1</th>\n      <th>2</th>\n      <th>3</th>\n      <th>4</th>\n      <th>5</th>\n      <th>6</th>\n      <th>7</th>\n    </tr>\n  </thead>\n  <tbody>\n    <tr>\n      <th>4999</th>\n      <td>0.0</td>\n      <td>1.0</td>\n      <td>1.0</td>\n      <td>1.0</td>\n      <td>1.0</td>\n      <td>0.0</td>\n      <td>0.0</td>\n      <td>0.0</td>\n    </tr>\n    <tr>\n      <th>4998</th>\n      <td>0.0</td>\n      <td>1.0</td>\n      <td>1.0</td>\n      <td>1.0</td>\n      <td>1.0</td>\n      <td>0.0</td>\n      <td>0.0</td>\n      <td>0.0</td>\n    </tr>\n    <tr>\n      <th>4997</th>\n      <td>0.0</td>\n      <td>1.0</td>\n      <td>1.0</td>\n      <td>1.0</td>\n      <td>1.0</td>\n      <td>0.0</td>\n      <td>0.0</td>\n      <td>0.0</td>\n    </tr>\n    <tr>\n      <th>4996</th>\n      <td>1.0</td>\n      <td>1.0</td>\n      <td>1.0</td>\n      <td>1.0</td>\n      <td>0.0</td>\n      <td>0.0</td>\n      <td>0.0</td>\n      <td>0.0</td>\n    </tr>\n    <tr>\n      <th>4995</th>\n      <td>1.0</td>\n      <td>1.0</td>\n      <td>1.0</td>\n      <td>1.0</td>\n      <td>0.0</td>\n      <td>0.0</td>\n      <td>0.0</td>\n      <td>0.0</td>\n    </tr>\n    <tr>\n      <th>...</th>\n      <td>...</td>\n      <td>...</td>\n      <td>...</td>\n      <td>...</td>\n      <td>...</td>\n      <td>...</td>\n      <td>...</td>\n      <td>...</td>\n    </tr>\n    <tr>\n      <th>4</th>\n      <td>0.0</td>\n      <td>0.0</td>\n      <td>0.0</td>\n      <td>0.0</td>\n      <td>0.0</td>\n      <td>0.0</td>\n      <td>0.0</td>\n      <td>0.0</td>\n    </tr>\n    <tr>\n      <th>3</th>\n      <td>1.0</td>\n      <td>0.0</td>\n      <td>0.0</td>\n      <td>0.0</td>\n      <td>0.0</td>\n      <td>0.0</td>\n      <td>0.0</td>\n      <td>0.0</td>\n    </tr>\n    <tr>\n      <th>2</th>\n      <td>1.0</td>\n      <td>0.0</td>\n      <td>0.0</td>\n      <td>0.0</td>\n      <td>0.0</td>\n      <td>0.0</td>\n      <td>0.0</td>\n      <td>0.0</td>\n    </tr>\n    <tr>\n      <th>1</th>\n      <td>1.0</td>\n      <td>0.0</td>\n      <td>0.0</td>\n      <td>0.0</td>\n      <td>0.0</td>\n      <td>0.0</td>\n      <td>0.0</td>\n      <td>0.0</td>\n    </tr>\n    <tr>\n      <th>0</th>\n      <td>0.0</td>\n      <td>0.0</td>\n      <td>0.0</td>\n      <td>0.0</td>\n      <td>0.0</td>\n      <td>0.0</td>\n      <td>0.0</td>\n      <td>0.0</td>\n    </tr>\n  </tbody>\n</table>\n<p>5000 rows × 8 columns</p>\n</div>"
     },
     "execution_count": 16,
     "metadata": {},
     "output_type": "execute_result"
    }
   ],
   "source": [
    "labels = cl.multi_distance_labele_creator(rawdata,0.01,0.1,4)"
   ],
   "metadata": {
    "collapsed": false,
    "ExecuteTime": {
     "end_time": "2024-04-28T14:19:01.704868700Z",
     "start_time": "2024-04-28T14:19:01.695658400Z"
    }
   }
  },
  {
   "cell_type": "code",
   "execution_count": 17,
   "outputs": [
    {
     "data": {
      "text/plain": "            date    open    high     low   close\n4999  01/26/1998  1.1090  1.1196  1.0963  1.0991\n4998  01/27/1998  1.0991  1.1055  1.0985  1.1022\n4997  01/28/1998  1.1021  1.1021  1.0877  1.0878\n4996  01/29/1998  1.0870  1.0927  1.0785  1.0799\n4995  01/30/1998  1.0792  1.0865  1.0771  1.0790\n...          ...     ...     ...     ...     ...\n4     03/21/2017  1.0740  1.0822  1.0720  1.0811\n3     03/22/2017  1.0810  1.0827  1.0776  1.0797\n2     03/23/2017  1.0797  1.0807  1.0769  1.0783\n1     03/24/2017  1.0784  1.0820  1.0761  1.0799\n0     03/27/2017  1.0797  1.0905  1.0795  1.0865\n\n[5000 rows x 5 columns]",
      "text/html": "<div>\n<style scoped>\n    .dataframe tbody tr th:only-of-type {\n        vertical-align: middle;\n    }\n\n    .dataframe tbody tr th {\n        vertical-align: top;\n    }\n\n    .dataframe thead th {\n        text-align: right;\n    }\n</style>\n<table border=\"1\" class=\"dataframe\">\n  <thead>\n    <tr style=\"text-align: right;\">\n      <th></th>\n      <th>date</th>\n      <th>open</th>\n      <th>high</th>\n      <th>low</th>\n      <th>close</th>\n    </tr>\n  </thead>\n  <tbody>\n    <tr>\n      <th>4999</th>\n      <td>01/26/1998</td>\n      <td>1.1090</td>\n      <td>1.1196</td>\n      <td>1.0963</td>\n      <td>1.0991</td>\n    </tr>\n    <tr>\n      <th>4998</th>\n      <td>01/27/1998</td>\n      <td>1.0991</td>\n      <td>1.1055</td>\n      <td>1.0985</td>\n      <td>1.1022</td>\n    </tr>\n    <tr>\n      <th>4997</th>\n      <td>01/28/1998</td>\n      <td>1.1021</td>\n      <td>1.1021</td>\n      <td>1.0877</td>\n      <td>1.0878</td>\n    </tr>\n    <tr>\n      <th>4996</th>\n      <td>01/29/1998</td>\n      <td>1.0870</td>\n      <td>1.0927</td>\n      <td>1.0785</td>\n      <td>1.0799</td>\n    </tr>\n    <tr>\n      <th>4995</th>\n      <td>01/30/1998</td>\n      <td>1.0792</td>\n      <td>1.0865</td>\n      <td>1.0771</td>\n      <td>1.0790</td>\n    </tr>\n    <tr>\n      <th>...</th>\n      <td>...</td>\n      <td>...</td>\n      <td>...</td>\n      <td>...</td>\n      <td>...</td>\n    </tr>\n    <tr>\n      <th>4</th>\n      <td>03/21/2017</td>\n      <td>1.0740</td>\n      <td>1.0822</td>\n      <td>1.0720</td>\n      <td>1.0811</td>\n    </tr>\n    <tr>\n      <th>3</th>\n      <td>03/22/2017</td>\n      <td>1.0810</td>\n      <td>1.0827</td>\n      <td>1.0776</td>\n      <td>1.0797</td>\n    </tr>\n    <tr>\n      <th>2</th>\n      <td>03/23/2017</td>\n      <td>1.0797</td>\n      <td>1.0807</td>\n      <td>1.0769</td>\n      <td>1.0783</td>\n    </tr>\n    <tr>\n      <th>1</th>\n      <td>03/24/2017</td>\n      <td>1.0784</td>\n      <td>1.0820</td>\n      <td>1.0761</td>\n      <td>1.0799</td>\n    </tr>\n    <tr>\n      <th>0</th>\n      <td>03/27/2017</td>\n      <td>1.0797</td>\n      <td>1.0905</td>\n      <td>1.0795</td>\n      <td>1.0865</td>\n    </tr>\n  </tbody>\n</table>\n<p>5000 rows × 5 columns</p>\n</div>"
     },
     "execution_count": 17,
     "metadata": {},
     "output_type": "execute_result"
    }
   ],
   "source": [
    "clab = pd.DataFrame(labels.copy())\n",
    "clab.index=rawdata.index\n",
    "clab"
   ],
   "metadata": {
    "collapsed": false,
    "ExecuteTime": {
     "end_time": "2024-04-28T14:19:14.502648600Z",
     "start_time": "2024-04-28T14:19:14.481241800Z"
    }
   }
  },
  {
   "cell_type": "code",
   "execution_count": null,
   "outputs": [],
   "source": [
    "rawdata"
   ],
   "metadata": {
    "collapsed": false
   }
  },
  {
   "cell_type": "code",
   "execution_count": 9,
   "outputs": [],
   "source": [],
   "metadata": {
    "collapsed": false,
    "ExecuteTime": {
     "end_time": "2024-04-28T14:05:49.314872400Z",
     "start_time": "2024-04-28T14:05:49.299032500Z"
    }
   }
  },
  {
   "cell_type": "code",
   "execution_count": 10,
   "outputs": [
    {
     "data": {
      "text/plain": "            date    open    high     low   close\n4999  01/26/1998  1.1090  1.1196  1.0963  1.0991\n4998  01/27/1998  1.0991  1.1055  1.0985  1.1022\n4997  01/28/1998  1.1021  1.1021  1.0877  1.0878\n4996  01/29/1998  1.0870  1.0927  1.0785  1.0799\n4995  01/30/1998  1.0792  1.0865  1.0771  1.0790\n4994  02/02/1998  1.0815  1.0905  1.0778  1.0905\n4993  02/03/1998  1.0865  1.0905  1.0803  1.0893\n4992  02/04/1998  1.0882  1.0965  1.0830  1.0955\n4991  02/05/1998  1.0943  1.1050  1.0924  1.1032\n4990  02/06/1998  1.1020  1.1028  1.0880  1.0903",
      "text/html": "<div>\n<style scoped>\n    .dataframe tbody tr th:only-of-type {\n        vertical-align: middle;\n    }\n\n    .dataframe tbody tr th {\n        vertical-align: top;\n    }\n\n    .dataframe thead th {\n        text-align: right;\n    }\n</style>\n<table border=\"1\" class=\"dataframe\">\n  <thead>\n    <tr style=\"text-align: right;\">\n      <th></th>\n      <th>date</th>\n      <th>open</th>\n      <th>high</th>\n      <th>low</th>\n      <th>close</th>\n    </tr>\n  </thead>\n  <tbody>\n    <tr>\n      <th>4999</th>\n      <td>01/26/1998</td>\n      <td>1.1090</td>\n      <td>1.1196</td>\n      <td>1.0963</td>\n      <td>1.0991</td>\n    </tr>\n    <tr>\n      <th>4998</th>\n      <td>01/27/1998</td>\n      <td>1.0991</td>\n      <td>1.1055</td>\n      <td>1.0985</td>\n      <td>1.1022</td>\n    </tr>\n    <tr>\n      <th>4997</th>\n      <td>01/28/1998</td>\n      <td>1.1021</td>\n      <td>1.1021</td>\n      <td>1.0877</td>\n      <td>1.0878</td>\n    </tr>\n    <tr>\n      <th>4996</th>\n      <td>01/29/1998</td>\n      <td>1.0870</td>\n      <td>1.0927</td>\n      <td>1.0785</td>\n      <td>1.0799</td>\n    </tr>\n    <tr>\n      <th>4995</th>\n      <td>01/30/1998</td>\n      <td>1.0792</td>\n      <td>1.0865</td>\n      <td>1.0771</td>\n      <td>1.0790</td>\n    </tr>\n    <tr>\n      <th>4994</th>\n      <td>02/02/1998</td>\n      <td>1.0815</td>\n      <td>1.0905</td>\n      <td>1.0778</td>\n      <td>1.0905</td>\n    </tr>\n    <tr>\n      <th>4993</th>\n      <td>02/03/1998</td>\n      <td>1.0865</td>\n      <td>1.0905</td>\n      <td>1.0803</td>\n      <td>1.0893</td>\n    </tr>\n    <tr>\n      <th>4992</th>\n      <td>02/04/1998</td>\n      <td>1.0882</td>\n      <td>1.0965</td>\n      <td>1.0830</td>\n      <td>1.0955</td>\n    </tr>\n    <tr>\n      <th>4991</th>\n      <td>02/05/1998</td>\n      <td>1.0943</td>\n      <td>1.1050</td>\n      <td>1.0924</td>\n      <td>1.1032</td>\n    </tr>\n    <tr>\n      <th>4990</th>\n      <td>02/06/1998</td>\n      <td>1.1020</td>\n      <td>1.1028</td>\n      <td>1.0880</td>\n      <td>1.0903</td>\n    </tr>\n  </tbody>\n</table>\n</div>"
     },
     "execution_count": 10,
     "metadata": {},
     "output_type": "execute_result"
    }
   ],
   "source": [
    "t[0]=False\n",
    "t"
   ],
   "metadata": {
    "collapsed": false,
    "ExecuteTime": {
     "end_time": "2024-04-28T14:05:50.321887600Z",
     "start_time": "2024-04-28T14:05:50.321887600Z"
    }
   }
  },
  {
   "cell_type": "code",
   "execution_count": 23,
   "outputs": [
    {
     "name": "stdout",
     "output_type": "stream",
     "text": [
      "0\n",
      "date\n",
      "1\n",
      "open\n",
      "2\n",
      "high\n",
      "3\n",
      "low\n",
      "4\n",
      "close\n"
     ]
    }
   ],
   "source": [
    "t.index(True)"
   ],
   "metadata": {
    "collapsed": false,
    "ExecuteTime": {
     "end_time": "2024-04-28T14:08:25.534404Z",
     "start_time": "2024-04-28T14:08:25.523219100Z"
    }
   }
  },
  {
   "cell_type": "code",
   "execution_count": 19,
   "outputs": [
    {
     "data": {
      "text/plain": "(4999,\n date     01/26/1998\n open          1.109\n high         1.1196\n low          1.0963\n close        1.0991\n Name: 4999, dtype: object)"
     },
     "execution_count": 19,
     "metadata": {},
     "output_type": "execute_result"
    }
   ],
   "source": [],
   "metadata": {
    "collapsed": false,
    "ExecuteTime": {
     "end_time": "2024-04-28T14:07:46.000037900Z",
     "start_time": "2024-04-28T14:07:45.983921100Z"
    }
   }
  }
 ],
 "metadata": {
  "kernelspec": {
   "display_name": "Python 3",
   "language": "python",
   "name": "python3"
  },
  "language_info": {
   "codemirror_mode": {
    "name": "ipython",
    "version": 2
   },
   "file_extension": ".py",
   "mimetype": "text/x-python",
   "name": "python",
   "nbconvert_exporter": "python",
   "pygments_lexer": "ipython2",
   "version": "2.7.6"
  }
 },
 "nbformat": 4,
 "nbformat_minor": 0
}
