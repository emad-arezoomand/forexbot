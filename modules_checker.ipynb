{
 "cells": [
  {
   "cell_type": "code",
   "execution_count": 1,
   "metadata": {
    "collapsed": true,
    "ExecuteTime": {
     "end_time": "2024-04-26T19:49:01.385239100Z",
     "start_time": "2024-04-26T19:49:00.854109Z"
    }
   },
   "outputs": [],
   "source": [
    "import numpy as np\n",
    "import Raw_data_receiver as rdr\n",
    "import Create_window_index as windower"
   ]
  },
  {
   "cell_type": "code",
   "execution_count": 2,
   "outputs": [],
   "source": [
    "data_receiver = rdr.rawdatareceiver()"
   ],
   "metadata": {
    "collapsed": false,
    "ExecuteTime": {
     "end_time": "2024-04-26T19:49:01.394045400Z",
     "start_time": "2024-04-26T19:49:01.385239100Z"
    }
   }
  },
  {
   "cell_type": "code",
   "execution_count": 3,
   "outputs": [
    {
     "name": "stdout",
     "output_type": "stream",
     "text": [
      "read file with header as follows \n",
      "\n",
      "         Date   Price    Open    High     Low  Vol. Change %\n",
      "0  03/27/2017  1.0865  1.0797  1.0905  1.0795   NaN    0.61%\n",
      "1  03/24/2017  1.0799  1.0784  1.0820  1.0761   NaN    0.15%\n",
      "2  03/23/2017  1.0783  1.0797  1.0807  1.0769   NaN   -0.13%\n",
      "3  03/22/2017  1.0797  1.0810  1.0827  1.0776   NaN   -0.13%\n",
      "4  03/21/2017  1.0811  1.0740  1.0822  1.0720   NaN    0.67%\n",
      "\n",
      "\n"
     ]
    }
   ],
   "source": [
    "rawdata = data_receiver.receive_data_file(\"chart_data/eur_usd_daily.csv\", \"eurusd_daily\")\n",
    "# 0 2 3 4 1\n",
    "rawdata = rawdata.iloc[::-1].reset_index()"
   ],
   "metadata": {
    "collapsed": false,
    "ExecuteTime": {
     "end_time": "2024-04-26T19:49:26.614235600Z",
     "start_time": "2024-04-26T19:49:01.803906500Z"
    }
   }
  },
  {
   "cell_type": "code",
   "execution_count": 5,
   "outputs": [
    {
     "data": {
      "text/plain": "      index        date    open    high     low   close\n0      4999  01/26/1998  1.1090  1.1196  1.0963  1.0991\n1      4998  01/27/1998  1.0991  1.1055  1.0985  1.1022\n2      4997  01/28/1998  1.1021  1.1021  1.0877  1.0878\n3      4996  01/29/1998  1.0870  1.0927  1.0785  1.0799\n4      4995  01/30/1998  1.0792  1.0865  1.0771  1.0790\n...     ...         ...     ...     ...     ...     ...\n4995      4  03/21/2017  1.0740  1.0822  1.0720  1.0811\n4996      3  03/22/2017  1.0810  1.0827  1.0776  1.0797\n4997      2  03/23/2017  1.0797  1.0807  1.0769  1.0783\n4998      1  03/24/2017  1.0784  1.0820  1.0761  1.0799\n4999      0  03/27/2017  1.0797  1.0905  1.0795  1.0865\n\n[5000 rows x 6 columns]",
      "text/html": "<div>\n<style scoped>\n    .dataframe tbody tr th:only-of-type {\n        vertical-align: middle;\n    }\n\n    .dataframe tbody tr th {\n        vertical-align: top;\n    }\n\n    .dataframe thead th {\n        text-align: right;\n    }\n</style>\n<table border=\"1\" class=\"dataframe\">\n  <thead>\n    <tr style=\"text-align: right;\">\n      <th></th>\n      <th>index</th>\n      <th>date</th>\n      <th>open</th>\n      <th>high</th>\n      <th>low</th>\n      <th>close</th>\n    </tr>\n  </thead>\n  <tbody>\n    <tr>\n      <th>0</th>\n      <td>4999</td>\n      <td>01/26/1998</td>\n      <td>1.1090</td>\n      <td>1.1196</td>\n      <td>1.0963</td>\n      <td>1.0991</td>\n    </tr>\n    <tr>\n      <th>1</th>\n      <td>4998</td>\n      <td>01/27/1998</td>\n      <td>1.0991</td>\n      <td>1.1055</td>\n      <td>1.0985</td>\n      <td>1.1022</td>\n    </tr>\n    <tr>\n      <th>2</th>\n      <td>4997</td>\n      <td>01/28/1998</td>\n      <td>1.1021</td>\n      <td>1.1021</td>\n      <td>1.0877</td>\n      <td>1.0878</td>\n    </tr>\n    <tr>\n      <th>3</th>\n      <td>4996</td>\n      <td>01/29/1998</td>\n      <td>1.0870</td>\n      <td>1.0927</td>\n      <td>1.0785</td>\n      <td>1.0799</td>\n    </tr>\n    <tr>\n      <th>4</th>\n      <td>4995</td>\n      <td>01/30/1998</td>\n      <td>1.0792</td>\n      <td>1.0865</td>\n      <td>1.0771</td>\n      <td>1.0790</td>\n    </tr>\n    <tr>\n      <th>...</th>\n      <td>...</td>\n      <td>...</td>\n      <td>...</td>\n      <td>...</td>\n      <td>...</td>\n      <td>...</td>\n    </tr>\n    <tr>\n      <th>4995</th>\n      <td>4</td>\n      <td>03/21/2017</td>\n      <td>1.0740</td>\n      <td>1.0822</td>\n      <td>1.0720</td>\n      <td>1.0811</td>\n    </tr>\n    <tr>\n      <th>4996</th>\n      <td>3</td>\n      <td>03/22/2017</td>\n      <td>1.0810</td>\n      <td>1.0827</td>\n      <td>1.0776</td>\n      <td>1.0797</td>\n    </tr>\n    <tr>\n      <th>4997</th>\n      <td>2</td>\n      <td>03/23/2017</td>\n      <td>1.0797</td>\n      <td>1.0807</td>\n      <td>1.0769</td>\n      <td>1.0783</td>\n    </tr>\n    <tr>\n      <th>4998</th>\n      <td>1</td>\n      <td>03/24/2017</td>\n      <td>1.0784</td>\n      <td>1.0820</td>\n      <td>1.0761</td>\n      <td>1.0799</td>\n    </tr>\n    <tr>\n      <th>4999</th>\n      <td>0</td>\n      <td>03/27/2017</td>\n      <td>1.0797</td>\n      <td>1.0905</td>\n      <td>1.0795</td>\n      <td>1.0865</td>\n    </tr>\n  </tbody>\n</table>\n<p>5000 rows × 6 columns</p>\n</div>"
     },
     "execution_count": 5,
     "metadata": {},
     "output_type": "execute_result"
    }
   ],
   "source": [
    "rawdata"
   ],
   "metadata": {
    "collapsed": false,
    "ExecuteTime": {
     "end_time": "2024-04-26T19:53:55.830317500Z",
     "start_time": "2024-04-26T19:53:55.816480100Z"
    }
   }
  },
  {
   "cell_type": "code",
   "execution_count": 5,
   "outputs": [],
   "source": [],
   "metadata": {
    "collapsed": false,
    "ExecuteTime": {
     "end_time": "2024-04-26T19:54:10.180253800Z",
     "start_time": "2024-04-26T19:54:10.169917200Z"
    }
   }
  },
  {
   "cell_type": "code",
   "execution_count": 2,
   "outputs": [
    {
     "name": "stdout",
     "output_type": "stream",
     "text": [
      "[[0 1 2 3 4]\n",
      " [1 2 3 4 5]\n",
      " [2 3 4 5 6]\n",
      " [3 4 5 6 7]\n",
      " [4 5 6 7 8]\n",
      " [5 6 7 8 9]]\n"
     ]
    }
   ],
   "source": [
    "print(windower.create_window_indexes(10,5))"
   ],
   "metadata": {
    "collapsed": false,
    "ExecuteTime": {
     "end_time": "2024-04-26T16:33:53.281528200Z",
     "start_time": "2024-04-26T16:33:53.261141800Z"
    }
   }
  },
  {
   "cell_type": "code",
   "execution_count": 6,
   "outputs": [],
   "source": [
    "import Create_labels as cl"
   ],
   "metadata": {
    "collapsed": false,
    "ExecuteTime": {
     "end_time": "2024-04-26T19:54:16.740487700Z",
     "start_time": "2024-04-26T19:54:16.697128800Z"
    }
   }
  },
  {
   "cell_type": "code",
   "execution_count": 7,
   "outputs": [],
   "source": [
    "labels = cl.multi_distance_labele_creator(rawdata,0.01,0.5,4)"
   ],
   "metadata": {
    "collapsed": false,
    "ExecuteTime": {
     "end_time": "2024-04-26T20:05:03.347595300Z",
     "start_time": "2024-04-26T19:54:17.766867400Z"
    }
   }
  },
  {
   "cell_type": "code",
   "execution_count": 7,
   "outputs": [],
   "source": [],
   "metadata": {
    "collapsed": false,
    "ExecuteTime": {
     "end_time": "2024-04-26T20:05:03.350646700Z",
     "start_time": "2024-04-26T20:05:03.350646700Z"
    }
   }
  },
  {
   "cell_type": "code",
   "execution_count": 19,
   "outputs": [],
   "source": [],
   "metadata": {
    "collapsed": false,
    "ExecuteTime": {
     "end_time": "2024-04-26T19:38:50.268926800Z",
     "start_time": "2024-04-26T19:38:50.260677100Z"
    }
   }
  },
  {
   "cell_type": "code",
   "execution_count": null,
   "outputs": [],
   "source": [],
   "metadata": {
    "collapsed": false
   }
  }
 ],
 "metadata": {
  "kernelspec": {
   "display_name": "Python 3",
   "language": "python",
   "name": "python3"
  },
  "language_info": {
   "codemirror_mode": {
    "name": "ipython",
    "version": 2
   },
   "file_extension": ".py",
   "mimetype": "text/x-python",
   "name": "python",
   "nbconvert_exporter": "python",
   "pygments_lexer": "ipython2",
   "version": "2.7.6"
  }
 },
 "nbformat": 4,
 "nbformat_minor": 0
}
