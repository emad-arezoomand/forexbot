{
 "cells": [
  {
   "cell_type": "code",
   "execution_count": 1,
   "metadata": {
    "collapsed": true,
    "ExecuteTime": {
     "end_time": "2024-04-28T19:38:38.720896300Z",
     "start_time": "2024-04-28T19:38:38.251111200Z"
    }
   },
   "outputs": [],
   "source": [
    "import numpy as np\n",
    "import pandas as pd\n",
    "import Raw_data_receiver as rdr\n",
    "import Create_window_index as windower"
   ]
  },
  {
   "cell_type": "code",
   "execution_count": 2,
   "outputs": [],
   "source": [
    "data_receiver = rdr.rawdatareceiver()"
   ],
   "metadata": {
    "collapsed": false,
    "ExecuteTime": {
     "end_time": "2024-04-28T19:38:45.351394600Z",
     "start_time": "2024-04-28T19:38:45.351394600Z"
    }
   }
  },
  {
   "cell_type": "code",
   "execution_count": 3,
   "outputs": [
    {
     "name": "stdout",
     "output_type": "stream",
     "text": [
      "read file with header as follows \n",
      "\n",
      "         Date   Price    Open    High     Low  Vol. Change %\n",
      "0  03/27/2017  1.0865  1.0797  1.0905  1.0795   NaN    0.61%\n",
      "1  03/24/2017  1.0799  1.0784  1.0820  1.0761   NaN    0.15%\n",
      "2  03/23/2017  1.0783  1.0797  1.0807  1.0769   NaN   -0.13%\n",
      "3  03/22/2017  1.0797  1.0810  1.0827  1.0776   NaN   -0.13%\n",
      "4  03/21/2017  1.0811  1.0740  1.0822  1.0720   NaN    0.67%\n",
      "\n",
      "\n"
     ]
    }
   ],
   "source": [
    "rawdata = data_receiver.receive_data_file(\"chart_data/eur_usd_daily.csv\", \"eurusd_daily\")\n",
    "# 0 2 3 4 1\n",
    "rawdata = rawdata.iloc[::-1]\n",
    "rawdata.index = np.arange(0,len(rawdata))[::-1]"
   ],
   "metadata": {
    "collapsed": false,
    "ExecuteTime": {
     "end_time": "2024-04-28T19:38:50.941150900Z",
     "start_time": "2024-04-28T19:38:49.651371400Z"
    }
   }
  },
  {
   "cell_type": "code",
   "execution_count": 4,
   "outputs": [],
   "source": [
    "import Create_labels as cl"
   ],
   "metadata": {
    "collapsed": false,
    "ExecuteTime": {
     "end_time": "2024-04-28T19:38:57.761536100Z",
     "start_time": "2024-04-28T19:38:57.756021Z"
    }
   }
  },
  {
   "cell_type": "code",
   "execution_count": 5,
   "outputs": [
    {
     "name": "stdout",
     "output_type": "stream",
     "text": [
      "lims = \n",
      " [0.01 0.04 0.07 0.1 ]\n"
     ]
    }
   ],
   "source": [
    "labels = cl.multi_distance_label_creator(rawdata,0.01,0.1,4)"
   ],
   "metadata": {
    "collapsed": false,
    "ExecuteTime": {
     "end_time": "2024-04-28T19:39:47.566799500Z",
     "start_time": "2024-04-28T19:39:03.294972700Z"
    }
   }
  },
  {
   "cell_type": "code",
   "execution_count": 6,
   "outputs": [],
   "source": [
    "window_size = 50\n",
    "windower_chunk_ids = windower.create_window_indexes(len_data=len(rawdata),len_window=window_size)"
   ],
   "metadata": {
    "collapsed": false,
    "ExecuteTime": {
     "end_time": "2024-04-28T19:39:47.581284600Z",
     "start_time": "2024-04-28T19:39:47.572851600Z"
    }
   }
  },
  {
   "cell_type": "code",
   "execution_count": 7,
   "outputs": [],
   "source": [
    "dataset = windower.apply_windower_to_series_data(data=rawdata,labels=labels, windows_indexes=windower_chunk_ids)"
   ],
   "metadata": {
    "collapsed": false,
    "ExecuteTime": {
     "end_time": "2024-04-28T19:39:48.091652500Z",
     "start_time": "2024-04-28T19:39:47.581284600Z"
    }
   }
  },
  {
   "cell_type": "code",
   "execution_count": 8,
   "outputs": [
    {
     "data": {
      "text/plain": "            date    open    high     low   close\n4461  02/18/2000  0.9880  0.9903  0.9807  0.9865\n4460  02/21/2000  0.9848  0.9890  0.9843  0.9874\n4459  02/22/2000  0.9875  1.0080  0.9872  1.0040\n4458  02/23/2000  1.0039  1.0091  1.0009  1.0030\n4457  02/24/2000  1.0036  1.0042  0.9889  0.9931\n4456  02/25/2000  0.9929  0.9929  0.9723  0.9745\n4455  02/28/2000  0.9748  0.9748  0.9392  0.9719\n4454  02/29/2000  0.9717  0.9865  0.9616  0.9647\n4453  03/01/2000  0.9647  0.9770  0.9627  0.9738\n4452  03/02/2000  0.9734  0.9796  0.9614  0.9644\n4451  03/03/2000  0.9647  0.9679  0.9587  0.9599\n4450  03/06/2000  0.9576  0.9672  0.9557  0.9594\n4449  03/07/2000  0.9590  0.9627  0.9526  0.9598\n4448  03/08/2000  0.9584  0.9634  0.9523  0.9608\n4447  03/09/2000  0.9607  0.9702  0.9595  0.9664\n4446  03/10/2000  0.9667  0.9687  0.9597  0.9630\n4445  03/13/2000  0.9627  0.9730  0.9617  0.9647\n4444  03/14/2000  0.9637  0.9684  0.9595  0.9683\n4443  03/15/2000  0.9685  0.9714  0.9640  0.9675\n4442  03/16/2000  0.9662  0.9741  0.9646  0.9715\n4441  03/17/2000  0.9699  0.9730  0.9659  0.9724\n4440  03/20/2000  0.9728  0.9748  0.9684  0.9732\n4439  03/21/2000  0.9733  0.9738  0.9633  0.9641\n4438  03/22/2000  0.9615  0.9632  0.9576  0.9612\n4437  03/23/2000  0.9607  0.9729  0.9601  0.9718\n4436  03/24/2000  0.9716  0.9778  0.9671  0.9771\n4435  03/27/2000  0.9771  0.9790  0.9632  0.9667\n4434  03/28/2000  0.9672  0.9703  0.9601  0.9607\n4433  03/29/2000  0.9603  0.9605  0.9478  0.9516\n4432  03/30/2000  0.9510  0.9623  0.9507  0.9611\n4431  03/31/2000  0.9612  0.9628  0.9526  0.9562\n4430  04/03/2000  0.9563  0.9606  0.9503  0.9550\n4429  04/04/2000  0.9538  0.9752  0.9513  0.9604\n4428  04/05/2000  0.9614  0.9712  0.9592  0.9623\n4427  04/06/2000  0.9604  0.9645  0.9565  0.9579\n4426  04/07/2000  0.9583  0.9617  0.9536  0.9549\n4425  04/10/2000  0.9546  0.9629  0.9532  0.9627\n4424  04/11/2000  0.9625  0.9649  0.9563  0.9591\n4423  04/12/2000  0.9587  0.9602  0.9520  0.9588\n4422  04/13/2000  0.9589  0.9596  0.9514  0.9525\n4421  04/14/2000  0.9528  0.9625  0.9509  0.9623\n4420  04/17/2000  0.9644  0.9673  0.9517  0.9524\n4419  04/18/2000  0.9523  0.9526  0.9440  0.9459\n4418  04/19/2000  0.9452  0.9490  0.9354  0.9405\n4417  04/20/2000  0.9403  0.9425  0.9348  0.9379\n4416  04/21/2000  0.9381  0.9398  0.9362  0.9383\n4415  04/24/2000  0.9383  0.9451  0.9367  0.9385\n4414  04/25/2000  0.9389  0.9397  0.9162  0.9210\n4413  04/26/2000  0.9211  0.9253  0.9174  0.9238\n4412  04/27/2000  0.9242  0.9252  0.9061  0.9100",
      "text/html": "<div>\n<style scoped>\n    .dataframe tbody tr th:only-of-type {\n        vertical-align: middle;\n    }\n\n    .dataframe tbody tr th {\n        vertical-align: top;\n    }\n\n    .dataframe thead th {\n        text-align: right;\n    }\n</style>\n<table border=\"1\" class=\"dataframe\">\n  <thead>\n    <tr style=\"text-align: right;\">\n      <th></th>\n      <th>date</th>\n      <th>open</th>\n      <th>high</th>\n      <th>low</th>\n      <th>close</th>\n    </tr>\n  </thead>\n  <tbody>\n    <tr>\n      <th>4461</th>\n      <td>02/18/2000</td>\n      <td>0.9880</td>\n      <td>0.9903</td>\n      <td>0.9807</td>\n      <td>0.9865</td>\n    </tr>\n    <tr>\n      <th>4460</th>\n      <td>02/21/2000</td>\n      <td>0.9848</td>\n      <td>0.9890</td>\n      <td>0.9843</td>\n      <td>0.9874</td>\n    </tr>\n    <tr>\n      <th>4459</th>\n      <td>02/22/2000</td>\n      <td>0.9875</td>\n      <td>1.0080</td>\n      <td>0.9872</td>\n      <td>1.0040</td>\n    </tr>\n    <tr>\n      <th>4458</th>\n      <td>02/23/2000</td>\n      <td>1.0039</td>\n      <td>1.0091</td>\n      <td>1.0009</td>\n      <td>1.0030</td>\n    </tr>\n    <tr>\n      <th>4457</th>\n      <td>02/24/2000</td>\n      <td>1.0036</td>\n      <td>1.0042</td>\n      <td>0.9889</td>\n      <td>0.9931</td>\n    </tr>\n    <tr>\n      <th>4456</th>\n      <td>02/25/2000</td>\n      <td>0.9929</td>\n      <td>0.9929</td>\n      <td>0.9723</td>\n      <td>0.9745</td>\n    </tr>\n    <tr>\n      <th>4455</th>\n      <td>02/28/2000</td>\n      <td>0.9748</td>\n      <td>0.9748</td>\n      <td>0.9392</td>\n      <td>0.9719</td>\n    </tr>\n    <tr>\n      <th>4454</th>\n      <td>02/29/2000</td>\n      <td>0.9717</td>\n      <td>0.9865</td>\n      <td>0.9616</td>\n      <td>0.9647</td>\n    </tr>\n    <tr>\n      <th>4453</th>\n      <td>03/01/2000</td>\n      <td>0.9647</td>\n      <td>0.9770</td>\n      <td>0.9627</td>\n      <td>0.9738</td>\n    </tr>\n    <tr>\n      <th>4452</th>\n      <td>03/02/2000</td>\n      <td>0.9734</td>\n      <td>0.9796</td>\n      <td>0.9614</td>\n      <td>0.9644</td>\n    </tr>\n    <tr>\n      <th>4451</th>\n      <td>03/03/2000</td>\n      <td>0.9647</td>\n      <td>0.9679</td>\n      <td>0.9587</td>\n      <td>0.9599</td>\n    </tr>\n    <tr>\n      <th>4450</th>\n      <td>03/06/2000</td>\n      <td>0.9576</td>\n      <td>0.9672</td>\n      <td>0.9557</td>\n      <td>0.9594</td>\n    </tr>\n    <tr>\n      <th>4449</th>\n      <td>03/07/2000</td>\n      <td>0.9590</td>\n      <td>0.9627</td>\n      <td>0.9526</td>\n      <td>0.9598</td>\n    </tr>\n    <tr>\n      <th>4448</th>\n      <td>03/08/2000</td>\n      <td>0.9584</td>\n      <td>0.9634</td>\n      <td>0.9523</td>\n      <td>0.9608</td>\n    </tr>\n    <tr>\n      <th>4447</th>\n      <td>03/09/2000</td>\n      <td>0.9607</td>\n      <td>0.9702</td>\n      <td>0.9595</td>\n      <td>0.9664</td>\n    </tr>\n    <tr>\n      <th>4446</th>\n      <td>03/10/2000</td>\n      <td>0.9667</td>\n      <td>0.9687</td>\n      <td>0.9597</td>\n      <td>0.9630</td>\n    </tr>\n    <tr>\n      <th>4445</th>\n      <td>03/13/2000</td>\n      <td>0.9627</td>\n      <td>0.9730</td>\n      <td>0.9617</td>\n      <td>0.9647</td>\n    </tr>\n    <tr>\n      <th>4444</th>\n      <td>03/14/2000</td>\n      <td>0.9637</td>\n      <td>0.9684</td>\n      <td>0.9595</td>\n      <td>0.9683</td>\n    </tr>\n    <tr>\n      <th>4443</th>\n      <td>03/15/2000</td>\n      <td>0.9685</td>\n      <td>0.9714</td>\n      <td>0.9640</td>\n      <td>0.9675</td>\n    </tr>\n    <tr>\n      <th>4442</th>\n      <td>03/16/2000</td>\n      <td>0.9662</td>\n      <td>0.9741</td>\n      <td>0.9646</td>\n      <td>0.9715</td>\n    </tr>\n    <tr>\n      <th>4441</th>\n      <td>03/17/2000</td>\n      <td>0.9699</td>\n      <td>0.9730</td>\n      <td>0.9659</td>\n      <td>0.9724</td>\n    </tr>\n    <tr>\n      <th>4440</th>\n      <td>03/20/2000</td>\n      <td>0.9728</td>\n      <td>0.9748</td>\n      <td>0.9684</td>\n      <td>0.9732</td>\n    </tr>\n    <tr>\n      <th>4439</th>\n      <td>03/21/2000</td>\n      <td>0.9733</td>\n      <td>0.9738</td>\n      <td>0.9633</td>\n      <td>0.9641</td>\n    </tr>\n    <tr>\n      <th>4438</th>\n      <td>03/22/2000</td>\n      <td>0.9615</td>\n      <td>0.9632</td>\n      <td>0.9576</td>\n      <td>0.9612</td>\n    </tr>\n    <tr>\n      <th>4437</th>\n      <td>03/23/2000</td>\n      <td>0.9607</td>\n      <td>0.9729</td>\n      <td>0.9601</td>\n      <td>0.9718</td>\n    </tr>\n    <tr>\n      <th>4436</th>\n      <td>03/24/2000</td>\n      <td>0.9716</td>\n      <td>0.9778</td>\n      <td>0.9671</td>\n      <td>0.9771</td>\n    </tr>\n    <tr>\n      <th>4435</th>\n      <td>03/27/2000</td>\n      <td>0.9771</td>\n      <td>0.9790</td>\n      <td>0.9632</td>\n      <td>0.9667</td>\n    </tr>\n    <tr>\n      <th>4434</th>\n      <td>03/28/2000</td>\n      <td>0.9672</td>\n      <td>0.9703</td>\n      <td>0.9601</td>\n      <td>0.9607</td>\n    </tr>\n    <tr>\n      <th>4433</th>\n      <td>03/29/2000</td>\n      <td>0.9603</td>\n      <td>0.9605</td>\n      <td>0.9478</td>\n      <td>0.9516</td>\n    </tr>\n    <tr>\n      <th>4432</th>\n      <td>03/30/2000</td>\n      <td>0.9510</td>\n      <td>0.9623</td>\n      <td>0.9507</td>\n      <td>0.9611</td>\n    </tr>\n    <tr>\n      <th>4431</th>\n      <td>03/31/2000</td>\n      <td>0.9612</td>\n      <td>0.9628</td>\n      <td>0.9526</td>\n      <td>0.9562</td>\n    </tr>\n    <tr>\n      <th>4430</th>\n      <td>04/03/2000</td>\n      <td>0.9563</td>\n      <td>0.9606</td>\n      <td>0.9503</td>\n      <td>0.9550</td>\n    </tr>\n    <tr>\n      <th>4429</th>\n      <td>04/04/2000</td>\n      <td>0.9538</td>\n      <td>0.9752</td>\n      <td>0.9513</td>\n      <td>0.9604</td>\n    </tr>\n    <tr>\n      <th>4428</th>\n      <td>04/05/2000</td>\n      <td>0.9614</td>\n      <td>0.9712</td>\n      <td>0.9592</td>\n      <td>0.9623</td>\n    </tr>\n    <tr>\n      <th>4427</th>\n      <td>04/06/2000</td>\n      <td>0.9604</td>\n      <td>0.9645</td>\n      <td>0.9565</td>\n      <td>0.9579</td>\n    </tr>\n    <tr>\n      <th>4426</th>\n      <td>04/07/2000</td>\n      <td>0.9583</td>\n      <td>0.9617</td>\n      <td>0.9536</td>\n      <td>0.9549</td>\n    </tr>\n    <tr>\n      <th>4425</th>\n      <td>04/10/2000</td>\n      <td>0.9546</td>\n      <td>0.9629</td>\n      <td>0.9532</td>\n      <td>0.9627</td>\n    </tr>\n    <tr>\n      <th>4424</th>\n      <td>04/11/2000</td>\n      <td>0.9625</td>\n      <td>0.9649</td>\n      <td>0.9563</td>\n      <td>0.9591</td>\n    </tr>\n    <tr>\n      <th>4423</th>\n      <td>04/12/2000</td>\n      <td>0.9587</td>\n      <td>0.9602</td>\n      <td>0.9520</td>\n      <td>0.9588</td>\n    </tr>\n    <tr>\n      <th>4422</th>\n      <td>04/13/2000</td>\n      <td>0.9589</td>\n      <td>0.9596</td>\n      <td>0.9514</td>\n      <td>0.9525</td>\n    </tr>\n    <tr>\n      <th>4421</th>\n      <td>04/14/2000</td>\n      <td>0.9528</td>\n      <td>0.9625</td>\n      <td>0.9509</td>\n      <td>0.9623</td>\n    </tr>\n    <tr>\n      <th>4420</th>\n      <td>04/17/2000</td>\n      <td>0.9644</td>\n      <td>0.9673</td>\n      <td>0.9517</td>\n      <td>0.9524</td>\n    </tr>\n    <tr>\n      <th>4419</th>\n      <td>04/18/2000</td>\n      <td>0.9523</td>\n      <td>0.9526</td>\n      <td>0.9440</td>\n      <td>0.9459</td>\n    </tr>\n    <tr>\n      <th>4418</th>\n      <td>04/19/2000</td>\n      <td>0.9452</td>\n      <td>0.9490</td>\n      <td>0.9354</td>\n      <td>0.9405</td>\n    </tr>\n    <tr>\n      <th>4417</th>\n      <td>04/20/2000</td>\n      <td>0.9403</td>\n      <td>0.9425</td>\n      <td>0.9348</td>\n      <td>0.9379</td>\n    </tr>\n    <tr>\n      <th>4416</th>\n      <td>04/21/2000</td>\n      <td>0.9381</td>\n      <td>0.9398</td>\n      <td>0.9362</td>\n      <td>0.9383</td>\n    </tr>\n    <tr>\n      <th>4415</th>\n      <td>04/24/2000</td>\n      <td>0.9383</td>\n      <td>0.9451</td>\n      <td>0.9367</td>\n      <td>0.9385</td>\n    </tr>\n    <tr>\n      <th>4414</th>\n      <td>04/25/2000</td>\n      <td>0.9389</td>\n      <td>0.9397</td>\n      <td>0.9162</td>\n      <td>0.9210</td>\n    </tr>\n    <tr>\n      <th>4413</th>\n      <td>04/26/2000</td>\n      <td>0.9211</td>\n      <td>0.9253</td>\n      <td>0.9174</td>\n      <td>0.9238</td>\n    </tr>\n    <tr>\n      <th>4412</th>\n      <td>04/27/2000</td>\n      <td>0.9242</td>\n      <td>0.9252</td>\n      <td>0.9061</td>\n      <td>0.9100</td>\n    </tr>\n  </tbody>\n</table>\n</div>"
     },
     "execution_count": 8,
     "metadata": {},
     "output_type": "execute_result"
    }
   ],
   "source": [
    "dataset[538][0]"
   ],
   "metadata": {
    "collapsed": false,
    "ExecuteTime": {
     "end_time": "2024-04-28T19:39:48.111962900Z",
     "start_time": "2024-04-28T19:39:48.091652500Z"
    }
   }
  },
  {
   "cell_type": "code",
   "execution_count": 9,
   "outputs": [
    {
     "data": {
      "text/plain": "array([[0., 1., 0., 1., 1., 0., 1., 0.]])"
     },
     "execution_count": 9,
     "metadata": {},
     "output_type": "execute_result"
    }
   ],
   "source": [
    "dataset[538][1]"
   ],
   "metadata": {
    "collapsed": false,
    "ExecuteTime": {
     "end_time": "2024-04-28T19:39:48.141271300Z",
     "start_time": "2024-04-28T19:39:48.111962900Z"
    }
   }
  },
  {
   "cell_type": "code",
   "execution_count": 10,
   "outputs": [
    {
     "data": {
      "text/plain": "        0    1    2    3    4    5    6    7\n4999  0.0  1.0  1.0  1.0  1.0  0.0  0.0  0.0\n4998  0.0  1.0  1.0  1.0  1.0  0.0  0.0  0.0\n4997  0.0  1.0  1.0  1.0  1.0  0.0  0.0  0.0\n4996  1.0  1.0  1.0  1.0  0.0  0.0  0.0  0.0\n4995  1.0  1.0  1.0  1.0  0.0  0.0  0.0  0.0\n...   ...  ...  ...  ...  ...  ...  ...  ...\n4     0.0  0.0  0.0  0.0  0.0  0.0  0.0  0.0\n3     1.0  0.0  0.0  0.0  0.0  0.0  0.0  0.0\n2     1.0  0.0  0.0  0.0  0.0  0.0  0.0  0.0\n1     1.0  0.0  0.0  0.0  0.0  0.0  0.0  0.0\n0     0.0  0.0  0.0  0.0  0.0  0.0  0.0  0.0\n\n[5000 rows x 8 columns]",
      "text/html": "<div>\n<style scoped>\n    .dataframe tbody tr th:only-of-type {\n        vertical-align: middle;\n    }\n\n    .dataframe tbody tr th {\n        vertical-align: top;\n    }\n\n    .dataframe thead th {\n        text-align: right;\n    }\n</style>\n<table border=\"1\" class=\"dataframe\">\n  <thead>\n    <tr style=\"text-align: right;\">\n      <th></th>\n      <th>0</th>\n      <th>1</th>\n      <th>2</th>\n      <th>3</th>\n      <th>4</th>\n      <th>5</th>\n      <th>6</th>\n      <th>7</th>\n    </tr>\n  </thead>\n  <tbody>\n    <tr>\n      <th>4999</th>\n      <td>0.0</td>\n      <td>1.0</td>\n      <td>1.0</td>\n      <td>1.0</td>\n      <td>1.0</td>\n      <td>0.0</td>\n      <td>0.0</td>\n      <td>0.0</td>\n    </tr>\n    <tr>\n      <th>4998</th>\n      <td>0.0</td>\n      <td>1.0</td>\n      <td>1.0</td>\n      <td>1.0</td>\n      <td>1.0</td>\n      <td>0.0</td>\n      <td>0.0</td>\n      <td>0.0</td>\n    </tr>\n    <tr>\n      <th>4997</th>\n      <td>0.0</td>\n      <td>1.0</td>\n      <td>1.0</td>\n      <td>1.0</td>\n      <td>1.0</td>\n      <td>0.0</td>\n      <td>0.0</td>\n      <td>0.0</td>\n    </tr>\n    <tr>\n      <th>4996</th>\n      <td>1.0</td>\n      <td>1.0</td>\n      <td>1.0</td>\n      <td>1.0</td>\n      <td>0.0</td>\n      <td>0.0</td>\n      <td>0.0</td>\n      <td>0.0</td>\n    </tr>\n    <tr>\n      <th>4995</th>\n      <td>1.0</td>\n      <td>1.0</td>\n      <td>1.0</td>\n      <td>1.0</td>\n      <td>0.0</td>\n      <td>0.0</td>\n      <td>0.0</td>\n      <td>0.0</td>\n    </tr>\n    <tr>\n      <th>...</th>\n      <td>...</td>\n      <td>...</td>\n      <td>...</td>\n      <td>...</td>\n      <td>...</td>\n      <td>...</td>\n      <td>...</td>\n      <td>...</td>\n    </tr>\n    <tr>\n      <th>4</th>\n      <td>0.0</td>\n      <td>0.0</td>\n      <td>0.0</td>\n      <td>0.0</td>\n      <td>0.0</td>\n      <td>0.0</td>\n      <td>0.0</td>\n      <td>0.0</td>\n    </tr>\n    <tr>\n      <th>3</th>\n      <td>1.0</td>\n      <td>0.0</td>\n      <td>0.0</td>\n      <td>0.0</td>\n      <td>0.0</td>\n      <td>0.0</td>\n      <td>0.0</td>\n      <td>0.0</td>\n    </tr>\n    <tr>\n      <th>2</th>\n      <td>1.0</td>\n      <td>0.0</td>\n      <td>0.0</td>\n      <td>0.0</td>\n      <td>0.0</td>\n      <td>0.0</td>\n      <td>0.0</td>\n      <td>0.0</td>\n    </tr>\n    <tr>\n      <th>1</th>\n      <td>1.0</td>\n      <td>0.0</td>\n      <td>0.0</td>\n      <td>0.0</td>\n      <td>0.0</td>\n      <td>0.0</td>\n      <td>0.0</td>\n      <td>0.0</td>\n    </tr>\n    <tr>\n      <th>0</th>\n      <td>0.0</td>\n      <td>0.0</td>\n      <td>0.0</td>\n      <td>0.0</td>\n      <td>0.0</td>\n      <td>0.0</td>\n      <td>0.0</td>\n      <td>0.0</td>\n    </tr>\n  </tbody>\n</table>\n<p>5000 rows × 8 columns</p>\n</div>"
     },
     "execution_count": 10,
     "metadata": {},
     "output_type": "execute_result"
    }
   ],
   "source": [
    "clab = pd.DataFrame(labels.copy())\n",
    "clab.index=rawdata.index\n",
    "clab"
   ],
   "metadata": {
    "collapsed": false,
    "ExecuteTime": {
     "end_time": "2024-04-28T19:39:48.341521900Z",
     "start_time": "2024-04-28T19:39:48.131173100Z"
    }
   }
  },
  {
   "cell_type": "code",
   "execution_count": 11,
   "outputs": [
    {
     "data": {
      "text/plain": "            date    open    high     low   close\n4999  01/26/1998  1.1090  1.1196  1.0963  1.0991\n4998  01/27/1998  1.0991  1.1055  1.0985  1.1022\n4997  01/28/1998  1.1021  1.1021  1.0877  1.0878\n4996  01/29/1998  1.0870  1.0927  1.0785  1.0799\n4995  01/30/1998  1.0792  1.0865  1.0771  1.0790\n...          ...     ...     ...     ...     ...\n4     03/21/2017  1.0740  1.0822  1.0720  1.0811\n3     03/22/2017  1.0810  1.0827  1.0776  1.0797\n2     03/23/2017  1.0797  1.0807  1.0769  1.0783\n1     03/24/2017  1.0784  1.0820  1.0761  1.0799\n0     03/27/2017  1.0797  1.0905  1.0795  1.0865\n\n[5000 rows x 5 columns]",
      "text/html": "<div>\n<style scoped>\n    .dataframe tbody tr th:only-of-type {\n        vertical-align: middle;\n    }\n\n    .dataframe tbody tr th {\n        vertical-align: top;\n    }\n\n    .dataframe thead th {\n        text-align: right;\n    }\n</style>\n<table border=\"1\" class=\"dataframe\">\n  <thead>\n    <tr style=\"text-align: right;\">\n      <th></th>\n      <th>date</th>\n      <th>open</th>\n      <th>high</th>\n      <th>low</th>\n      <th>close</th>\n    </tr>\n  </thead>\n  <tbody>\n    <tr>\n      <th>4999</th>\n      <td>01/26/1998</td>\n      <td>1.1090</td>\n      <td>1.1196</td>\n      <td>1.0963</td>\n      <td>1.0991</td>\n    </tr>\n    <tr>\n      <th>4998</th>\n      <td>01/27/1998</td>\n      <td>1.0991</td>\n      <td>1.1055</td>\n      <td>1.0985</td>\n      <td>1.1022</td>\n    </tr>\n    <tr>\n      <th>4997</th>\n      <td>01/28/1998</td>\n      <td>1.1021</td>\n      <td>1.1021</td>\n      <td>1.0877</td>\n      <td>1.0878</td>\n    </tr>\n    <tr>\n      <th>4996</th>\n      <td>01/29/1998</td>\n      <td>1.0870</td>\n      <td>1.0927</td>\n      <td>1.0785</td>\n      <td>1.0799</td>\n    </tr>\n    <tr>\n      <th>4995</th>\n      <td>01/30/1998</td>\n      <td>1.0792</td>\n      <td>1.0865</td>\n      <td>1.0771</td>\n      <td>1.0790</td>\n    </tr>\n    <tr>\n      <th>...</th>\n      <td>...</td>\n      <td>...</td>\n      <td>...</td>\n      <td>...</td>\n      <td>...</td>\n    </tr>\n    <tr>\n      <th>4</th>\n      <td>03/21/2017</td>\n      <td>1.0740</td>\n      <td>1.0822</td>\n      <td>1.0720</td>\n      <td>1.0811</td>\n    </tr>\n    <tr>\n      <th>3</th>\n      <td>03/22/2017</td>\n      <td>1.0810</td>\n      <td>1.0827</td>\n      <td>1.0776</td>\n      <td>1.0797</td>\n    </tr>\n    <tr>\n      <th>2</th>\n      <td>03/23/2017</td>\n      <td>1.0797</td>\n      <td>1.0807</td>\n      <td>1.0769</td>\n      <td>1.0783</td>\n    </tr>\n    <tr>\n      <th>1</th>\n      <td>03/24/2017</td>\n      <td>1.0784</td>\n      <td>1.0820</td>\n      <td>1.0761</td>\n      <td>1.0799</td>\n    </tr>\n    <tr>\n      <th>0</th>\n      <td>03/27/2017</td>\n      <td>1.0797</td>\n      <td>1.0905</td>\n      <td>1.0795</td>\n      <td>1.0865</td>\n    </tr>\n  </tbody>\n</table>\n<p>5000 rows × 5 columns</p>\n</div>"
     },
     "execution_count": 11,
     "metadata": {},
     "output_type": "execute_result"
    }
   ],
   "source": [
    "rawdata"
   ],
   "metadata": {
    "collapsed": false,
    "ExecuteTime": {
     "end_time": "2024-04-28T19:39:48.366392400Z",
     "start_time": "2024-04-28T19:39:48.161432600Z"
    }
   }
  },
  {
   "cell_type": "code",
   "execution_count": null,
   "outputs": [],
   "source": [],
   "metadata": {
    "collapsed": false
   }
  }
 ],
 "metadata": {
  "kernelspec": {
   "display_name": "Python 3",
   "language": "python",
   "name": "python3"
  },
  "language_info": {
   "codemirror_mode": {
    "name": "ipython",
    "version": 2
   },
   "file_extension": ".py",
   "mimetype": "text/x-python",
   "name": "python",
   "nbconvert_exporter": "python",
   "pygments_lexer": "ipython2",
   "version": "2.7.6"
  }
 },
 "nbformat": 4,
 "nbformat_minor": 0
}
